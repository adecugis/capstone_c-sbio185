{
 "cells": [
  {
   "cell_type": "code",
   "execution_count": 2,
   "metadata": {
    "vscode": {
     "languageId": "r"
    }
   },
   "outputs": [
    {
     "name": "stderr",
     "output_type": "stream",
     "text": [
      "Loading required package: SeuratObject\n",
      "\n",
      "Loading required package: sp\n",
      "\n",
      "\n",
      "Attaching package: 'SeuratObject'\n",
      "\n",
      "\n",
      "The following objects are masked from 'package:base':\n",
      "\n",
      "    intersect, t\n",
      "\n",
      "\n",
      "-- \u001b[1mAttaching core tidyverse packages\u001b[22m ------------------------ tidyverse 2.0.0 --\n",
      "\u001b[32mv\u001b[39m \u001b[34mdplyr    \u001b[39m 1.1.4     \u001b[32mv\u001b[39m \u001b[34mreadr    \u001b[39m 2.1.5\n",
      "\u001b[32mv\u001b[39m \u001b[34mforcats  \u001b[39m 1.0.0     \u001b[32mv\u001b[39m \u001b[34mstringr  \u001b[39m 1.5.1\n",
      "\u001b[32mv\u001b[39m \u001b[34mggplot2  \u001b[39m 3.5.1     \u001b[32mv\u001b[39m \u001b[34mtibble   \u001b[39m 3.2.1\n",
      "\u001b[32mv\u001b[39m \u001b[34mlubridate\u001b[39m 1.9.3     \u001b[32mv\u001b[39m \u001b[34mtidyr    \u001b[39m 1.3.1\n",
      "\u001b[32mv\u001b[39m \u001b[34mpurrr    \u001b[39m 1.0.2     \n",
      "-- \u001b[1mConflicts\u001b[22m ------------------------------------------ tidyverse_conflicts() --\n",
      "\u001b[31mx\u001b[39m \u001b[34mdplyr\u001b[39m::\u001b[32mfilter()\u001b[39m masks \u001b[34mstats\u001b[39m::filter()\n",
      "\u001b[31mx\u001b[39m \u001b[34mdplyr\u001b[39m::\u001b[32mlag()\u001b[39m    masks \u001b[34mstats\u001b[39m::lag()\n",
      "\u001b[36mi\u001b[39m Use the conflicted package (\u001b[3m\u001b[34m<http://conflicted.r-lib.org/>\u001b[39m\u001b[23m) to force all conflicts to become errors\n",
      "\n",
      "Attaching package: 'cowplot'\n",
      "\n",
      "\n",
      "The following object is masked from 'package:lubridate':\n",
      "\n",
      "    stamp\n",
      "\n",
      "\n",
      "\n",
      "Attaching package: 'patchwork'\n",
      "\n",
      "\n",
      "The following object is masked from 'package:cowplot':\n",
      "\n",
      "    align_plots\n",
      "\n",
      "\n"
     ]
    }
   ],
   "source": [
    "library(Seurat)\n",
    "library(tidyverse)\n",
    "library(cowplot)\n",
    "library(patchwork)\n",
    "library(ggplot2)\n",
    "library(readxl)"
   ]
  },
  {
   "cell_type": "code",
   "execution_count": 3,
   "metadata": {
    "vscode": {
     "languageId": "r"
    }
   },
   "outputs": [],
   "source": [
    "setwd(\"/Users/alicedecugis/Desktop/capstone\")\n",
    "wt1 <- Read10X(data.dir = \"/Users/alicedecugis/Desktop/capstone/GSE178693_RAW/WT1\")\n",
    "wt2 <- Read10X(data.dir = \"/Users/alicedecugis/Desktop/capstone/GSE178693_RAW/WT2\")\n",
    "mutant1 <- Read10X(data.dir = \"/Users/alicedecugis/Desktop/capstone/GSE178693_RAW/Mutant1\")\n",
    "mutant2 <- Read10X(data.dir = \"/Users/alicedecugis/Desktop/capstone/GSE178693_RAW/Mutant2\")\n",
    "\n",
    "pca_result_wt1 <- readRDS(\"/Users/alicedecugis/Desktop/capstone/pca_result.rds\")\n",
    "pca_result_wt2 <- readRDS(\"/Users/alicedecugis/Desktop/capstone/pca_result_wt2.rds\")\n",
    "pca_result_m1 <- readRDS(\"/Users/alicedecugis/Desktop/capstone/pca_result_m1.rds\")\n",
    "pca_result_m2 <- readRDS(\"/Users/alicedecugis/Desktop/capstone/pca_result_m2.rds\")\n",
    "\n",
    "marker_table <- read_excel(\"/Users/alicedecugis/Desktop/capstone/cell_types.xlsx\", col_names = TRUE, skip = 1)\n",
    "colnames(marker_table)"
   ]
  },
  {
   "cell_type": "code",
   "execution_count": 5,
   "metadata": {
    "vscode": {
     "languageId": "r"
    }
   },
   "outputs": [
    {
     "name": "stderr",
     "output_type": "stream",
     "text": [
      "Warning message:\n",
      "\"Feature names cannot have underscores ('_'), replacing with dashes ('-')\"\n",
      "Warning message:\n",
      "\"Feature names cannot have underscores ('_'), replacing with dashes ('-')\"\n",
      "Warning message:\n",
      "\"Feature names cannot have underscores ('_'), replacing with dashes ('-')\"\n",
      "Warning message:\n",
      "\"Feature names cannot have underscores ('_'), replacing with dashes ('-')\"\n"
     ]
    }
   ],
   "source": [
    "# Load necessary libraries\n",
    "library(Seurat)\n",
    "library(readxl)\n",
    "\n",
    "# Set working directory\n",
    "setwd(\"/Users/alicedecugis/Desktop/capstone\")\n",
    "\n",
    "# Step 1: Load the PCA results\n",
    "pca_result_wt1 <- readRDS(\"/Users/alicedecugis/Desktop/capstone/pca_result.rds\")\n",
    "pca_result_wt2 <- readRDS(\"/Users/alicedecugis/Desktop/capstone/pca_result_wt2.rds\")\n",
    "pca_result_m1 <- readRDS(\"/Users/alicedecugis/Desktop/capstone/pca_result_m1.rds\")\n",
    "pca_result_m2 <- readRDS(\"/Users/alicedecugis/Desktop/capstone/pca_result_m2.rds\")\n",
    "\n",
    "# Step 2: Load the marker table\n",
    "marker_table <- read_excel(\"/Users/alicedecugis/Desktop/capstone/cell_types.xlsx\", col_names = TRUE, skip = 1)\n",
    "\n",
    "# Step 3: Create Seurat Objects for each condition (if not already done)\n",
    "wt1 <- Read10X(data.dir = \"/Users/alicedecugis/Desktop/capstone/GSE178693_RAW/WT1\")\n",
    "wt2 <- Read10X(data.dir = \"/Users/alicedecugis/Desktop/capstone/GSE178693_RAW/WT2\")\n",
    "mutant1 <- Read10X(data.dir = \"/Users/alicedecugis/Desktop/capstone/GSE178693_RAW/Mutant1\")\n",
    "mutant2 <- Read10X(data.dir = \"/Users/alicedecugis/Desktop/capstone/GSE178693_RAW/Mutant2\")\n",
    "\n",
    "wt1_seurat <- CreateSeuratObject(counts = wt1, project = \"WT1\", min.cells = 3, min.features = 200)\n",
    "wt2_seurat <- CreateSeuratObject(counts = wt2, project = \"WT2\", min.cells = 3, min.features = 200)\n",
    "mutant1_seurat <- CreateSeuratObject(counts = mutant1, project = \"Mutant1\", min.cells = 3, min.features = 200)\n",
    "mutant2_seurat <- CreateSeuratObject(counts = mutant2, project = \"Mutant2\", min.cells = 3, min.features = 200)\n"
   ]
  },
  {
   "cell_type": "code",
   "execution_count": 6,
   "metadata": {
    "vscode": {
     "languageId": "r"
    }
   },
   "outputs": [],
   "source": [
    "# Step 4: Merge the Seurat objects into one combined dataset\n",
    "combined <- merge(wt1_seurat, y = c(wt2_seurat, mutant1_seurat, mutant2_seurat), \n",
    "                  add.cell.ids = c(\"WT1\", \"WT2\", \"Mutant1\", \"Mutant2\"))\n"
   ]
  },
  {
   "cell_type": "code",
   "execution_count": 8,
   "metadata": {
    "vscode": {
     "languageId": "r"
    }
   },
   "outputs": [
    {
     "name": "stderr",
     "output_type": "stream",
     "text": [
      "Normalizing layer: counts.WT1\n",
      "\n",
      "Normalizing layer: counts.WT2\n",
      "\n",
      "Normalizing layer: counts.Mutant1\n",
      "\n",
      "Normalizing layer: counts.Mutant2\n",
      "\n",
      "Finding variable features for layer counts.WT1\n",
      "\n",
      "Finding variable features for layer counts.WT2\n",
      "\n",
      "Finding variable features for layer counts.Mutant1\n",
      "\n",
      "Finding variable features for layer counts.Mutant2\n",
      "\n",
      "Centering and scaling data matrix\n",
      "\n",
      "PC_ 1 \n",
      "Positive:  Flt1, Ly6c1, Ly6a, Slco1a4, Abcb1a, Apold1, Gpr116, Itm2a, Klf2, Eltd1 \n",
      "\t   Igfbp7, Slco1c1, Ptprb, Rgs5, Bsg, Ly6e, Ly6c2, Palmd, Abcg2, Sdpr \n",
      "\t   Egfl7, Id1, Pcp4l1, 9430020K01Rik, Cldn5, Klf4, Slc2a1, Lef1, Rundc3b, Hspb1 \n",
      "Negative:  Aldoc, Slc1a2, Dbi, Ttyh1, Slc4a4, Slc1a3, Ndrg2, Pla2g7, Scg3, Gria4 \n",
      "\t   Gpr37l1, Luzp2, Aqp4, Gria1, Ednrb, Clu, Apoe, Fam213a, Timp4, Gm3764 \n",
      "\t   Ntsr2, Grid2, Gja1, Mt3, Ntrk2, Sdc4, Bai3, Mlc1, Mt1, Gnao1 \n",
      "PC_ 2 \n",
      "Positive:  Ctss, C1qb, Laptm5, C1qa, C1qc, Csf1r, Tyrobp, Plek, Fcer1g, Ccl4 \n",
      "\t   Nfkbia, Cd83, Cx3cr1, Ccl3, Siglech, Srgn, Cd14, Aif1, Selplg, Ptprc \n",
      "\t   Tnfaip3, Il1a, Nfkbiz, Bcl2a1b, P2ry12, Nlrp3, Cd86, Trem2, Mpeg1, Itgam \n",
      "Negative:  Snhg11, Meg3, Stmn3, Prph, Ndrg4, Syt4, Gng3, Elavl4, Snap25, Atp1b1 \n",
      "\t   Map1b, Uchl1, Stmn2, Scn9a, Bex2, Rtn1, Slc17a6, Nefl, Gm26871, Scg2 \n",
      "\t   Tubb3, Syt1, Ppp1r1c, Dpp6, Prune2, Nap1l5, Pcdha2, Rab3c, Dnm1, Stxbp1 \n",
      "PC_ 3 \n",
      "Positive:  Sparcl1, Flt1, Mt2, Ly6c1, Slc4a4, Slco1a4, Aldoc, Slc1a2, Ly6a, Ttyh1 \n",
      "\t   Slco1c1, Dbi, Itm2a, Gpr116, Sptbn1, Rgs5, Abcb1a, Ptprb, Fam107a, Eltd1 \n",
      "\t   Ndrg2, Igfbp7, Gpr37l1, Mt1, Slc2a1, Pla2g7, Gja1, Ccdc141, Aqp4, Epas1 \n",
      "Negative:  Ctss, C1qb, Laptm5, C1qa, C1qc, Plek, Csf1r, Tyrobp, Cd83, Cx3cr1 \n",
      "\t   Ccl4, Fcer1g, Siglech, Ccl3, Aif1, Nlrp3, Cd14, Tnfaip3, Bcl2a1b, Il1a \n",
      "\t   Runx1, Mpeg1, Selplg, Itgam, Ly86, Cd86, Trem2, Nfkbiz, Ptprc, Gm14023 \n",
      "PC_ 4 \n",
      "Positive:  Gpr37l1, Slc1a3, Pla2g7, Sparcl1, Slc4a4, Aldoc, Ednrb, Mt2, Mt1, Ttyh1 \n",
      "\t   Apoe, Timp4, Sdc4, Aqp4, Gja1, Fam107a, Clu, Gria1, Slc1a2, Scg3 \n",
      "\t   Gdf10, Luzp2, Tmem47, Prdx6, Ntsr2, Slc38a1, Ndrg2, Mlc1, Gabrb1, Sox9 \n",
      "Negative:  Apod, Epb4.1l3, Ttll7, Ank3, Ptgds, Tnfaip6, Map1a, Acot7, Klk6, Gsn \n",
      "\t   Map1b, Dnm3, Meg3, Anks1b, Enpp6, Snhg11, Kcnab1, Mbnl2, Dusp26, Ctnna2 \n",
      "\t   Eml1, Tppp3, Carhsp1, Dlg2, Chgb, Scg5, Syt1, Dgki, Snap25, Atp9a \n",
      "PC_ 5 \n",
      "Positive:  Ccdc153, Tmem212, Ak7, Dnah12, Mns1, Enkur, Rsph1, Fam183b, Ccdc146, Wdr96 \n",
      "\t   Wdr52, Dynlrb2, Iqca, Spag17, E230008N13Rik, Ccdc19, Apod, Spef2, Rsph4a, Wdr63 \n",
      "\t   Calml4, 1700094D03Rik, 1700012B09Rik, 1700009P17Rik, Foxj1, Gm872, Maats1, Lrriq1, Tppp3, Cdhr3 \n",
      "Negative:  Sparcl1, Slc1a2, Aldoc, Slc4a4, Gria4, Kcnd2, Nrxn1, Gria2, Gm3764, Pla2g7 \n",
      "\t   Gria1, Meg3, Ttyh1, Luzp2, Rgs7bp, Snap25, Slc1a3, Nrxn3, Ednrb, Car10 \n",
      "\t   Gpr37l1, Cst3, Chgb, Frrs1l, Ntsr2, Scg3, Gabrb1, Fgf14, Fam107a, Bai3 \n",
      "\n",
      "Computing nearest neighbor graph\n",
      "\n",
      "Computing SNN\n",
      "\n"
     ]
    },
    {
     "name": "stdout",
     "output_type": "stream",
     "text": [
      "Modularity Optimizer version 1.3.0 by Ludo Waltman and Nees Jan van Eck\n",
      "\n",
      "Number of nodes: 6481\n",
      "Number of edges: 237554\n",
      "\n",
      "Running Louvain algorithm...\n",
      "Maximum modularity in 10 random starts: 0.9330\n",
      "Number of communities: 16\n",
      "Elapsed time: 0 seconds\n"
     ]
    },
    {
     "name": "stderr",
     "output_type": "stream",
     "text": [
      "Warning message:\n",
      "\"The default method for RunUMAP has changed from calling Python UMAP via reticulate to the R-native UWOT using the cosine metric\n",
      "To use Python UMAP via reticulate, set umap.method to 'umap-learn' and metric to 'correlation'\n",
      "This message will be shown once per session\"\n",
      "14:56:52 UMAP embedding parameters a = 0.9922 b = 1.112\n",
      "\n",
      "14:56:52 Read 6481 rows and found 20 numeric columns\n",
      "\n",
      "14:56:52 Using Annoy for neighbor search, n_neighbors = 30\n",
      "\n",
      "14:56:52 Building Annoy index with metric = cosine, n_trees = 50\n",
      "\n",
      "0%   10   20   30   40   50   60   70   80   90   100%\n",
      "\n",
      "[----|----|----|----|----|----|----|----|----|----|\n",
      "\n",
      "*\n",
      "*\n",
      "*\n",
      "*\n",
      "*\n",
      "*\n",
      "*\n",
      "*\n",
      "*\n",
      "*\n",
      "*\n",
      "*\n",
      "*\n",
      "*\n",
      "*\n",
      "*\n",
      "*\n",
      "*\n",
      "*\n",
      "*\n",
      "*\n",
      "*\n",
      "*\n",
      "*\n",
      "*\n",
      "*\n",
      "*\n",
      "*\n",
      "*\n",
      "*\n",
      "*\n",
      "*\n",
      "*\n",
      "*\n",
      "*\n",
      "*\n",
      "*\n",
      "*\n",
      "*\n",
      "*\n",
      "*\n",
      "*\n",
      "*\n",
      "*\n",
      "*\n",
      "*\n",
      "*\n",
      "*\n",
      "*\n",
      "*\n",
      "|\n",
      "\n",
      "14:56:52 Writing NN index file to temp file /var/folders/f4/sv9t7hdn50z1_5ws19zm4bpm0000gn/T//RtmpcQ9sP1/file36dd70a6b8d9\n",
      "\n",
      "14:56:52 Searching Annoy index using 1 thread, search_k = 3000\n",
      "\n",
      "14:56:54 Annoy recall = 100%\n",
      "\n",
      "14:56:54 Commencing smooth kNN distance calibration using 1 thread\n",
      " with target n_neighbors = 30\n",
      "\n",
      "14:56:55 Initializing from normalized Laplacian + noise (using RSpectra)\n",
      "\n",
      "14:56:55 Commencing optimization for 500 epochs, with 271436 positive edges\n",
      "\n",
      "14:57:04 Optimization finished\n",
      "\n"
     ]
    }
   ],
   "source": [
    "# Step 4: Merge the Seurat objects into one combined dataset\n",
    "combined <- merge(wt1_seurat, y = c(wt2_seurat, mutant1_seurat, mutant2_seurat), \n",
    "                  add.cell.ids = c(\"WT1\", \"WT2\", \"Mutant1\", \"Mutant2\"))\n",
    "\n",
    "# Step 5: Normalize the data\n",
    "combined <- NormalizeData(combined)\n",
    "\n",
    "# Step 6: Identify variable features\n",
    "combined <- FindVariableFeatures(combined)\n",
    "\n",
    "# Step 7: Scale the data\n",
    "combined <- ScaleData(combined)\n",
    "\n",
    "# Step 8: Perform PCA\n",
    "combined <- RunPCA(combined, features = VariableFeatures(object = combined))\n",
    "\n",
    "# Step 9: Find neighbors and perform clustering (Louvain clustering)\n",
    "combined <- FindNeighbors(combined, dims = 1:20)\n",
    "combined <- FindClusters(combined, resolution = 0.5)\n",
    "\n",
    "# Step 10: Run UMAP for dimensionality reduction and visualization\n",
    "combined <- RunUMAP(combined, dims = 1:20)"
   ]
  },
  {
   "cell_type": "code",
   "execution_count": 22,
   "metadata": {
    "vscode": {
     "languageId": "r"
    }
   },
   "outputs": [
    {
     "data": {
      "text/plain": [
       "\n",
       "Mutant1 Mutant2     WT1     WT2 \n",
       "   1323    2393    1891     874 "
      ]
     },
     "metadata": {},
     "output_type": "display_data"
    }
   ],
   "source": [
    "# Extract the group label (e.g., \"WT1\" before the first underscore)\n",
    "combined$group_label <- gsub(\"(^[A-Za-z0-9]+)_.*\", \"\\\\1\", combined$orig.ident)\n",
    "\n",
    "# Set the group labels as identities in Seurat\n",
    "Idents(combined) <- combined$group_label\n",
    "\n",
    "# Check the distribution of groups\n",
    "table(combined$group_label)\n"
   ]
  },
  {
   "cell_type": "code",
   "execution_count": 23,
   "metadata": {
    "vscode": {
     "languageId": "r"
    }
   },
   "outputs": [],
   "source": [
    "# Make sure you're working with the correct assay, such as \"RNA\" or \"integrated\"\n",
    "DefaultAssay(combined) <- \"RNA\"  # Choose the correct assay (RNA, integrated, etc.)\n",
    "\n",
    "# Run FindMarkers after setting the DefaultAssay\n",
    "#degs_wt_vs_mutant <- FindMarkers(combined, ident.1 = \"WT1\", ident.2 = \"Mutant1\", test.use = \"wilcox\")\n"
   ]
  },
  {
   "cell_type": "code",
   "execution_count": 24,
   "metadata": {
    "vscode": {
     "languageId": "r"
    }
   },
   "outputs": [
    {
     "name": "stderr",
     "output_type": "stream",
     "text": [
      "Normalizing layer: counts\n",
      "\n",
      "Normalizing layer: counts\n",
      "\n",
      "Normalizing layer: counts\n",
      "\n",
      "Normalizing layer: counts\n",
      "\n",
      "Warning message in CheckDuplicateCellNames(object.list = object.list):\n",
      "\"Some cell names are duplicated across objects provided. Renaming to enforce unique cell names.\"\n",
      "Computing 2000 integration features\n",
      "\n",
      "No variable features found for object1 in the object.list. Running FindVariableFeatures ...\n",
      "\n",
      "Finding variable features for layer counts\n",
      "\n",
      "No variable features found for object2 in the object.list. Running FindVariableFeatures ...\n",
      "\n",
      "Finding variable features for layer counts\n",
      "\n",
      "No variable features found for object3 in the object.list. Running FindVariableFeatures ...\n",
      "\n",
      "Finding variable features for layer counts\n",
      "\n",
      "No variable features found for object4 in the object.list. Running FindVariableFeatures ...\n",
      "\n",
      "Finding variable features for layer counts\n",
      "\n",
      "Scaling features for provided objects\n",
      "\n",
      "Finding all pairwise anchors\n",
      "\n",
      "Running CCA\n",
      "\n",
      "Merging objects\n",
      "\n",
      "Finding neighborhoods\n",
      "\n",
      "Finding anchors\n",
      "\n",
      "\tFound 3193 anchors\n",
      "\n",
      "Filtering anchors\n",
      "\n",
      "\tRetained 2854 anchors\n",
      "\n",
      "Running CCA\n",
      "\n",
      "Merging objects\n",
      "\n",
      "Finding neighborhoods\n",
      "\n",
      "Finding anchors\n",
      "\n",
      "\tFound 3915 anchors\n",
      "\n",
      "Filtering anchors\n",
      "\n",
      "\tRetained 3327 anchors\n",
      "\n",
      "Running CCA\n",
      "\n",
      "Merging objects\n",
      "\n",
      "Finding neighborhoods\n",
      "\n",
      "Finding anchors\n",
      "\n",
      "\tFound 2958 anchors\n",
      "\n",
      "Filtering anchors\n",
      "\n",
      "\tRetained 2385 anchors\n",
      "\n",
      "Running CCA\n",
      "\n",
      "Merging objects\n",
      "\n",
      "Finding neighborhoods\n",
      "\n",
      "Finding anchors\n",
      "\n",
      "\tFound 4558 anchors\n",
      "\n",
      "Filtering anchors\n",
      "\n",
      "\tRetained 3594 anchors\n",
      "\n",
      "Running CCA\n",
      "\n",
      "Merging objects\n",
      "\n",
      "Finding neighborhoods\n",
      "\n",
      "Finding anchors\n",
      "\n",
      "\tFound 3211 anchors\n",
      "\n",
      "Filtering anchors\n",
      "\n",
      "\tRetained 2186 anchors\n",
      "\n",
      "Running CCA\n",
      "\n",
      "Merging objects\n",
      "\n",
      "Finding neighborhoods\n",
      "\n",
      "Finding anchors\n",
      "\n",
      "\tFound 4212 anchors\n",
      "\n",
      "Filtering anchors\n",
      "\n",
      "\tRetained 3161 anchors\n",
      "\n"
     ]
    }
   ],
   "source": [
    "# Normalize each dataset\n",
    "wt1_seurat <- NormalizeData(wt1_seurat)\n",
    "wt2_seurat <- NormalizeData(wt2_seurat)\n",
    "mutant1_seurat <- NormalizeData(mutant1_seurat)\n",
    "mutant2_seurat <- NormalizeData(mutant2_seurat)\n",
    "\n",
    "# Find anchors for the integration\n",
    "anchors <- FindIntegrationAnchors(\n",
    "  object.list = list(wt1_seurat, wt2_seurat, mutant1_seurat, mutant2_seurat),\n",
    "  dims = 1:30  # Adjust the number of dimensions if necessary\n",
    ")\n"
   ]
  },
  {
   "cell_type": "code",
   "execution_count": 25,
   "metadata": {
    "vscode": {
     "languageId": "r"
    }
   },
   "outputs": [
    {
     "data": {
      "text/plain": [
       "$RNA\n",
       "Assay (v5) data with 18588 features for 6481 cells\n",
       "First 10 features:\n",
       " Plekhg1, Mthfd1l, Akap12, Zbtb2, Rmnd1, Gm16153, 1700052N19Rik,\n",
       "Ccdc170, Esr1, Syne1 \n",
       "Layers:\n",
       " counts.WT1, counts.WT2, counts.Mutant1, counts.Mutant2, data.WT1,\n",
       "scale.data.WT1, data.WT2, scale.data.WT2, data.Mutant1,\n",
       "scale.data.Mutant1, data.Mutant2, scale.data.Mutant2 \n",
       "\n",
       "$integrated\n",
       "Assay data with 2000 features for 6481 cells\n",
       "Top 10 variable features:\n",
       " Hbb-bs, Hba-a2, Hba-a1, Prph, Hbb-bt, Ccl3, Ctss, Syt4, Ywhah, Uchl1 \n"
      ]
     },
     "metadata": {},
     "output_type": "display_data"
    },
    {
     "name": "stderr",
     "output_type": "stream",
     "text": [
      "Merging dataset 2 into 1\n",
      "\n",
      "Extracting anchors for merged samples\n",
      "\n",
      "Finding integration vectors\n",
      "\n",
      "Finding integration vector weights\n",
      "\n",
      "Integrating data\n",
      "\n",
      "Warning message:\n",
      "\"Layer counts isn't present in the assay object; returning NULL\"\n",
      "Merging dataset 3 into 1 2\n",
      "\n",
      "Extracting anchors for merged samples\n",
      "\n",
      "Finding integration vectors\n",
      "\n",
      "Warning message:\n",
      "\"Different cells in new layer data than already exists for scale.data\"\n",
      "Finding integration vector weights\n",
      "\n",
      "Integrating data\n",
      "\n",
      "Warning message:\n",
      "\"Layer counts isn't present in the assay object; returning NULL\"\n",
      "Merging dataset 4 into 1 2 3\n",
      "\n",
      "Extracting anchors for merged samples\n",
      "\n",
      "Finding integration vectors\n",
      "\n",
      "Warning message:\n",
      "\"Different cells in new layer data than already exists for scale.data\"\n",
      "Finding integration vector weights\n",
      "\n",
      "Integrating data\n",
      "\n",
      "Warning message:\n",
      "\"Layer counts isn't present in the assay object; returning NULL\"\n"
     ]
    }
   ],
   "source": [
    "# Check if layers are joined\n",
    "combined@assays\n",
    "combined$RNA$data <- combined@assays$RNA$data.WT1 # or \"data.WT2\", \"data.Mutant1\", etc.\n",
    "combined <- IntegrateData(anchorset = anchors) # use pre-computed anchors\n",
    "\n",
    "# Run differential expression analysis between WT1 and Mutant1\n",
    "#degs_wt_vs_mutant <- FindMarkers(combined, ident.1 = \"WT1\", ident.2 = \"Mutant1\", test.use = \"wilcox\")\n"
   ]
  },
  {
   "cell_type": "code",
   "execution_count": null,
   "metadata": {
    "vscode": {
     "languageId": "r"
    }
   },
   "outputs": [],
   "source": [
    "write.csv(degs_wt_vs_mutant, \"/Users/alicedecugis/Desktop/capstone/degs_wt_vs_mutant.csv\")"
   ]
  },
  {
   "cell_type": "markdown",
   "metadata": {},
   "source": [
    "once it ran vizualise"
   ]
  },
  {
   "cell_type": "code",
   "execution_count": 30,
   "metadata": {
    "vscode": {
     "languageId": "r"
    }
   },
   "outputs": [
    {
     "name": "stderr",
     "output_type": "stream",
     "text": [
      "Calculating cluster WT1\n",
      "\n",
      "Calculating cluster WT2\n",
      "\n",
      "Calculating cluster Mutant1\n",
      "\n",
      "Calculating cluster Mutant2\n",
      "\n"
     ]
    },
    {
     "data": {
      "text/html": [
       "<table class=\"dataframe\">\n",
       "<caption>A data.frame: 6 x 7</caption>\n",
       "<thead>\n",
       "\t<tr><th></th><th scope=col>p_val</th><th scope=col>avg_log2FC</th><th scope=col>pct.1</th><th scope=col>pct.2</th><th scope=col>p_val_adj</th><th scope=col>cluster</th><th scope=col>gene</th></tr>\n",
       "\t<tr><th></th><th scope=col>&lt;dbl&gt;</th><th scope=col>&lt;dbl&gt;</th><th scope=col>&lt;dbl&gt;</th><th scope=col>&lt;dbl&gt;</th><th scope=col>&lt;dbl&gt;</th><th scope=col>&lt;fct&gt;</th><th scope=col>&lt;chr&gt;</th></tr>\n",
       "</thead>\n",
       "<tbody>\n",
       "\t<tr><th scope=row>Calca</th><td>0</td><td>1.4686284</td><td>0.020</td><td>0.866</td><td>0</td><td>WT1</td><td>Calca        </td></tr>\n",
       "\t<tr><th scope=row>Sncg</th><td>0</td><td>1.4475613</td><td>0.105</td><td>0.949</td><td>0</td><td>WT1</td><td>Sncg         </td></tr>\n",
       "\t<tr><th scope=row>Wdr78</th><td>0</td><td>0.5219852</td><td>0.024</td><td>0.864</td><td>0</td><td>WT1</td><td>Wdr78        </td></tr>\n",
       "\t<tr><th scope=row>Cd24a</th><td>0</td><td>1.3147479</td><td>0.044</td><td>0.883</td><td>0</td><td>WT1</td><td>Cd24a        </td></tr>\n",
       "\t<tr><th scope=row>Rab15</th><td>0</td><td>1.5124491</td><td>0.015</td><td>0.847</td><td>0</td><td>WT1</td><td>Rab15        </td></tr>\n",
       "\t<tr><th scope=row>3010026O09Rik</th><td>0</td><td>0.8695313</td><td>0.016</td><td>0.841</td><td>0</td><td>WT1</td><td>3010026O09Rik</td></tr>\n",
       "</tbody>\n",
       "</table>\n"
      ],
      "text/latex": [
       "A data.frame: 6 x 7\n",
       "\\begin{tabular}{r|lllllll}\n",
       "  & p\\_val & avg\\_log2FC & pct.1 & pct.2 & p\\_val\\_adj & cluster & gene\\\\\n",
       "  & <dbl> & <dbl> & <dbl> & <dbl> & <dbl> & <fct> & <chr>\\\\\n",
       "\\hline\n",
       "\tCalca & 0 & 1.4686284 & 0.020 & 0.866 & 0 & WT1 & Calca        \\\\\n",
       "\tSncg & 0 & 1.4475613 & 0.105 & 0.949 & 0 & WT1 & Sncg         \\\\\n",
       "\tWdr78 & 0 & 0.5219852 & 0.024 & 0.864 & 0 & WT1 & Wdr78        \\\\\n",
       "\tCd24a & 0 & 1.3147479 & 0.044 & 0.883 & 0 & WT1 & Cd24a        \\\\\n",
       "\tRab15 & 0 & 1.5124491 & 0.015 & 0.847 & 0 & WT1 & Rab15        \\\\\n",
       "\t3010026O09Rik & 0 & 0.8695313 & 0.016 & 0.841 & 0 & WT1 & 3010026O09Rik\\\\\n",
       "\\end{tabular}\n"
      ],
      "text/markdown": [
       "\n",
       "A data.frame: 6 x 7\n",
       "\n",
       "| <!--/--> | p_val &lt;dbl&gt; | avg_log2FC &lt;dbl&gt; | pct.1 &lt;dbl&gt; | pct.2 &lt;dbl&gt; | p_val_adj &lt;dbl&gt; | cluster &lt;fct&gt; | gene &lt;chr&gt; |\n",
       "|---|---|---|---|---|---|---|---|\n",
       "| Calca | 0 | 1.4686284 | 0.020 | 0.866 | 0 | WT1 | Calca         |\n",
       "| Sncg | 0 | 1.4475613 | 0.105 | 0.949 | 0 | WT1 | Sncg          |\n",
       "| Wdr78 | 0 | 0.5219852 | 0.024 | 0.864 | 0 | WT1 | Wdr78         |\n",
       "| Cd24a | 0 | 1.3147479 | 0.044 | 0.883 | 0 | WT1 | Cd24a         |\n",
       "| Rab15 | 0 | 1.5124491 | 0.015 | 0.847 | 0 | WT1 | Rab15         |\n",
       "| 3010026O09Rik | 0 | 0.8695313 | 0.016 | 0.841 | 0 | WT1 | 3010026O09Rik |\n",
       "\n"
      ],
      "text/plain": [
       "              p_val avg_log2FC pct.1 pct.2 p_val_adj cluster gene         \n",
       "Calca         0     1.4686284  0.020 0.866 0         WT1     Calca        \n",
       "Sncg          0     1.4475613  0.105 0.949 0         WT1     Sncg         \n",
       "Wdr78         0     0.5219852  0.024 0.864 0         WT1     Wdr78        \n",
       "Cd24a         0     1.3147479  0.044 0.883 0         WT1     Cd24a        \n",
       "Rab15         0     1.5124491  0.015 0.847 0         WT1     Rab15        \n",
       "3010026O09Rik 0     0.8695313  0.016 0.841 0         WT1     3010026O09Rik"
      ]
     },
     "metadata": {},
     "output_type": "display_data"
    }
   ],
   "source": [
    "degs_all <- FindAllMarkers(combined, test.use = \"wilcox\")\n",
    "head(degs_all)"
   ]
  },
  {
   "cell_type": "code",
   "execution_count": 31,
   "metadata": {
    "vscode": {
     "languageId": "r"
    }
   },
   "outputs": [
    {
     "data": {
      "text/html": [
       "<table class=\"dataframe\">\n",
       "<caption>A data.frame: 6 x 7</caption>\n",
       "<thead>\n",
       "\t<tr><th></th><th scope=col>p_val</th><th scope=col>avg_log2FC</th><th scope=col>pct.1</th><th scope=col>pct.2</th><th scope=col>p_val_adj</th><th scope=col>cluster</th><th scope=col>gene</th></tr>\n",
       "\t<tr><th></th><th scope=col>&lt;dbl&gt;</th><th scope=col>&lt;dbl&gt;</th><th scope=col>&lt;dbl&gt;</th><th scope=col>&lt;dbl&gt;</th><th scope=col>&lt;dbl&gt;</th><th scope=col>&lt;fct&gt;</th><th scope=col>&lt;chr&gt;</th></tr>\n",
       "</thead>\n",
       "<tbody>\n",
       "\t<tr><th scope=row>Calca</th><td>0</td><td>1.4686284</td><td>0.020</td><td>0.866</td><td>0</td><td>WT1</td><td>Calca        </td></tr>\n",
       "\t<tr><th scope=row>Sncg</th><td>0</td><td>1.4475613</td><td>0.105</td><td>0.949</td><td>0</td><td>WT1</td><td>Sncg         </td></tr>\n",
       "\t<tr><th scope=row>Wdr78</th><td>0</td><td>0.5219852</td><td>0.024</td><td>0.864</td><td>0</td><td>WT1</td><td>Wdr78        </td></tr>\n",
       "\t<tr><th scope=row>Cd24a</th><td>0</td><td>1.3147479</td><td>0.044</td><td>0.883</td><td>0</td><td>WT1</td><td>Cd24a        </td></tr>\n",
       "\t<tr><th scope=row>Rab15</th><td>0</td><td>1.5124491</td><td>0.015</td><td>0.847</td><td>0</td><td>WT1</td><td>Rab15        </td></tr>\n",
       "\t<tr><th scope=row>3010026O09Rik</th><td>0</td><td>0.8695313</td><td>0.016</td><td>0.841</td><td>0</td><td>WT1</td><td>3010026O09Rik</td></tr>\n",
       "</tbody>\n",
       "</table>\n"
      ],
      "text/latex": [
       "A data.frame: 6 x 7\n",
       "\\begin{tabular}{r|lllllll}\n",
       "  & p\\_val & avg\\_log2FC & pct.1 & pct.2 & p\\_val\\_adj & cluster & gene\\\\\n",
       "  & <dbl> & <dbl> & <dbl> & <dbl> & <dbl> & <fct> & <chr>\\\\\n",
       "\\hline\n",
       "\tCalca & 0 & 1.4686284 & 0.020 & 0.866 & 0 & WT1 & Calca        \\\\\n",
       "\tSncg & 0 & 1.4475613 & 0.105 & 0.949 & 0 & WT1 & Sncg         \\\\\n",
       "\tWdr78 & 0 & 0.5219852 & 0.024 & 0.864 & 0 & WT1 & Wdr78        \\\\\n",
       "\tCd24a & 0 & 1.3147479 & 0.044 & 0.883 & 0 & WT1 & Cd24a        \\\\\n",
       "\tRab15 & 0 & 1.5124491 & 0.015 & 0.847 & 0 & WT1 & Rab15        \\\\\n",
       "\t3010026O09Rik & 0 & 0.8695313 & 0.016 & 0.841 & 0 & WT1 & 3010026O09Rik\\\\\n",
       "\\end{tabular}\n"
      ],
      "text/markdown": [
       "\n",
       "A data.frame: 6 x 7\n",
       "\n",
       "| <!--/--> | p_val &lt;dbl&gt; | avg_log2FC &lt;dbl&gt; | pct.1 &lt;dbl&gt; | pct.2 &lt;dbl&gt; | p_val_adj &lt;dbl&gt; | cluster &lt;fct&gt; | gene &lt;chr&gt; |\n",
       "|---|---|---|---|---|---|---|---|\n",
       "| Calca | 0 | 1.4686284 | 0.020 | 0.866 | 0 | WT1 | Calca         |\n",
       "| Sncg | 0 | 1.4475613 | 0.105 | 0.949 | 0 | WT1 | Sncg          |\n",
       "| Wdr78 | 0 | 0.5219852 | 0.024 | 0.864 | 0 | WT1 | Wdr78         |\n",
       "| Cd24a | 0 | 1.3147479 | 0.044 | 0.883 | 0 | WT1 | Cd24a         |\n",
       "| Rab15 | 0 | 1.5124491 | 0.015 | 0.847 | 0 | WT1 | Rab15         |\n",
       "| 3010026O09Rik | 0 | 0.8695313 | 0.016 | 0.841 | 0 | WT1 | 3010026O09Rik |\n",
       "\n"
      ],
      "text/plain": [
       "              p_val avg_log2FC pct.1 pct.2 p_val_adj cluster gene         \n",
       "Calca         0     1.4686284  0.020 0.866 0         WT1     Calca        \n",
       "Sncg          0     1.4475613  0.105 0.949 0         WT1     Sncg         \n",
       "Wdr78         0     0.5219852  0.024 0.864 0         WT1     Wdr78        \n",
       "Cd24a         0     1.3147479  0.044 0.883 0         WT1     Cd24a        \n",
       "Rab15         0     1.5124491  0.015 0.847 0         WT1     Rab15        \n",
       "3010026O09Rik 0     0.8695313  0.016 0.841 0         WT1     3010026O09Rik"
      ]
     },
     "metadata": {},
     "output_type": "display_data"
    }
   ],
   "source": [
    "head(degs_all)"
   ]
  },
  {
   "cell_type": "code",
   "execution_count": 34,
   "metadata": {
    "vscode": {
     "languageId": "r"
    }
   },
   "outputs": [],
   "source": [
    "write.csv(degs_all, \"/Users/alicedecugis/Desktop/capstone/degs_all.csv\")"
   ]
  }
 ],
 "metadata": {
  "kernelspec": {
   "display_name": "R",
   "language": "R",
   "name": "ir"
  },
  "language_info": {
   "codemirror_mode": "r",
   "file_extension": ".r",
   "mimetype": "text/x-r-source",
   "name": "R",
   "pygments_lexer": "r",
   "version": "4.3.3"
  }
 },
 "nbformat": 4,
 "nbformat_minor": 2
}
