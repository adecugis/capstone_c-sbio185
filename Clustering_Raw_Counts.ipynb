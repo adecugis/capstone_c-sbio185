{
 "cells": [
  {
   "cell_type": "markdown",
   "id": "f1fbb923-99fe-4bd6-aca5-3d89a435e5e3",
   "metadata": {},
   "source": [
    "# Load Counts and Create Seurat Object"
   ]
  },
  {
   "cell_type": "code",
   "execution_count": null,
   "id": "3b1a9e5e-c209-41bc-98f7-e83255c2586f",
   "metadata": {},
   "outputs": [],
   "source": [
    "library(Seurat)\n",
    "library(Matrix)\n",
    "library(dplyr)\n",
    "library(pryr)\n",
    "library(RColorBrewer)\n",
    "library(ggplot2)"
   ]
  },
  {
   "cell_type": "code",
   "execution_count": null,
   "id": "6caf2b43-e02f-45e6-af0f-cd2b9df714a6",
   "metadata": {},
   "outputs": [],
   "source": [
    "read_mtx <- function(folder) {\n",
    "  counts <- readMM(file.path(folder, \"matrix.mtx\"))\n",
    "  genes <- read.table(file.path(folder, \"genes.tsv\"), header = FALSE, sep = \"\\t\", stringsAsFactors = FALSE)\n",
    "  barcodes <- read.table(file.path(folder, \"barcodes.tsv\"), header = FALSE, sep = \"\\t\", stringsAsFactors = FALSE)\n",
    "\n",
    "  # Assign row and column names\n",
    "  rownames(counts) <- genes$V2  # Second column contains gene names\n",
    "  colnames(counts) <- barcodes$V1  # First column contains cell barcodes\n",
    "\n",
    "  return(counts)\n",
    "}\n",
    "\n",
    "WT1_counts <- read_mtx(\"YOUR_PATH\")\n",
    "WT2_counts <- read_mtx(\"YOUR_PATH\")\n",
    "Mutant1_counts <- read_mtx(\"YOUR_PATH\")\n",
    "Mutant2_counts <- read_mtx(\"YOUR_PATH\")\n"
   ]
  },
  {
   "cell_type": "code",
   "execution_count": null,
   "id": "b451f6f4-b4df-4541-aeb7-e3474afee5bc",
   "metadata": {},
   "outputs": [],
   "source": [
    "WT1_seurat <- CreateSeuratObject(WT1_counts, project = \"WT1\", min.cells = 0, min.features = 0)\n",
    "WT2_seurat <- CreateSeuratObject(WT2_counts, project = \"WT2\", min.cells = 0, min.features = 0)\n",
    "Mutant1_seurat <- CreateSeuratObject(Mutant1_counts, project = \"Mutant1\", min.cells = 0, min.features = 0)\n",
    "Mutant2_seurat <- CreateSeuratObject(Mutant2_counts, project = \"Mutant2\", min.cells = 0, min.features = 0)\n",
    "\n",
    "\n",
    "rownames(WT1_seurat[[\"RNA\"]]@layers[[\"counts\"]]) <- rownames(WT1_counts)\n",
    "rownames(WT2_seurat[[\"RNA\"]]@layers[[\"counts\"]]) <- rownames(WT2_counts)\n",
    "rownames(Mutant1_seurat[[\"RNA\"]]@layers[[\"counts\"]]) <- rownames(Mutant1_counts)\n",
    "rownames(Mutant2_seurat[[\"RNA\"]]@layers[[\"counts\"]]) <- rownames(Mutant2_counts)\n",
    "\n",
    "head(rownames(WT1_seurat[[\"RNA\"]]@layers[[\"counts\"]]))\n",
    "\n",
    "\n",
    "WT1_seurat$Experiment <- \"WT1\"\n",
    "WT2_seurat$Experiment <- \"WT2\"\n",
    "Mutant1_seurat$Experiment <- \"Mutant1\"\n",
    "Mutant2_seurat$Experiment <- \"Mutant2\"\n",
    "\n",
    "\n",
    "\n",
    "# Merge all samples into one Seurat object\n",
    "combined_seurat <- merge(WT1_seurat, y = c(WT2_seurat, Mutant1_seurat, Mutant2_seurat), \n",
    "                         add.cell.ids = c(\"WT1\", \"WT2\", \"Mutant1\", \"Mutant2\"), project = \"Combined\")\n",
    "\n",
    "rownames(combined_seurat[[\"RNA\"]]@layers[[\"counts.WT1\"]]) <- rownames(WT1_counts)\n",
    "rownames(combined_seurat[[\"RNA\"]]@layers[[\"counts.WT2\"]]) <- rownames(WT2_counts)\n",
    "rownames(combined_seurat[[\"RNA\"]]@layers[[\"counts.Mutant1\"]]) <- rownames(Mutant1_counts)\n",
    "rownames(combined_seurat[[\"RNA\"]]@layers[[\"counts.Mutant2\"]]) <- rownames(Mutant2_counts)\n"
   ]
  },
  {
   "cell_type": "markdown",
   "id": "bdca2caa-ba08-4539-b3d3-95436371ba0c",
   "metadata": {},
   "source": [
    "# Filter, Normalize, Scale"
   ]
  },
  {
   "cell_type": "code",
   "execution_count": null,
   "id": "c5962726-51aa-46ae-8e6e-4da83a7fa78e",
   "metadata": {},
   "outputs": [],
   "source": [
    "# Filter\n",
    "combined_seurat <- subset(combined_seurat, \n",
    "                          subset = nFeature_RNA > 100 & \n",
    "                                   nFeature_RNA < 8000)\n",
    "# Normalize the data\n",
    "combined_seurat <- NormalizeData(combined_seurat)\n",
    "\n",
    "# Find variable features\n",
    "combined_seurat <- FindVariableFeatures(combined_seurat)\n",
    "\n",
    "# Scale the data\n",
    "combined_seurat <- ScaleData(combined_seurat)"
   ]
  },
  {
   "cell_type": "markdown",
   "id": "c3975360-2dd8-4e84-8015-0f0bf43d6732",
   "metadata": {},
   "source": [
    "# Combine Matrices for Clustering Analysis"
   ]
  },
  {
   "cell_type": "code",
   "execution_count": null,
   "id": "8b7cc92f-ab0b-4ab9-8bc1-1493d16ed285",
   "metadata": {},
   "outputs": [],
   "source": [
    "# Ensure matrices are sparse\n",
    "WT1_counts <- as(WT1_counts, \"dgCMatrix\")\n",
    "WT2_counts <- as(WT2_counts, \"dgCMatrix\")\n",
    "Mutant1_counts <- as(Mutant1_counts, \"dgCMatrix\")\n",
    "Mutant2_counts <- as(Mutant2_counts, \"dgCMatrix\")\n",
    "\n",
    "combined_counts_matrix <- RowMergeSparseMatrices(WT1_counts, WT2_counts)\n",
    "\n",
    "saveRDS(combined_counts_matrix, file = \"combined_counts_matrix.rds\")\n"
   ]
  },
  {
   "cell_type": "markdown",
   "id": "3a027416-f3e1-48a7-a03c-1932286ceac0",
   "metadata": {},
   "source": [
    "# Perform K Means Clustering"
   ]
  },
  {
   "cell_type": "code",
   "execution_count": null,
   "id": "2146b2b5-f04d-44a4-bffb-58fc36506e59",
   "metadata": {},
   "outputs": [],
   "source": [
    "combined_counts_matrix <- readRDS(\"combined_counts_matrix.rds\")\n",
    "\n",
    "# Ensure column names match between the matrix and Seurat object\n",
    "common_cells <- colnames(combined_seurat)  # Cells remaining after filtering\n",
    "combined_counts_matrix <- combined_counts_matrix[, common_cells, drop = FALSE]  \n",
    "\n",
    "set.seed(42)\n",
    "k_clusters <- 11  # Adjust number of clusters if needed\n",
    "kmeans_result <- kmeans(t(as.matrix(combined_counts_matrix)), centers = k_clusters, nstart = 25)\n",
    "\n",
    "# Ensure cluster assignments match Seurat object cells\n",
    "if (length(kmeans_result$cluster) == length(colnames(combined_seurat))) {\n",
    "    combined_seurat$kmeans_cluster <- as.factor(kmeans_result$cluster)\n",
    "} else {\n",
    "    stop(\"Mismatch in number of cells between clustering results and Seurat object\")\n",
    "}\n",
    "\n",
    "saveRDS(combined_seurat, file = \"k_means_seurat.rds\")"
   ]
  },
  {
   "cell_type": "markdown",
   "id": "8247465c-8136-449a-800d-934eacf1c849",
   "metadata": {},
   "source": [
    "# Perform Louvain Clustering"
   ]
  },
  {
   "cell_type": "code",
   "execution_count": null,
   "id": "b8e3ce17-b667-4971-8908-da0a34ebb25d",
   "metadata": {},
   "outputs": [],
   "source": [
    "# Ensure column names match between the matrix and Seurat object AFTER FILTERING\n",
    "common_cells <- colnames(combined_seurat)  # Cells remaining after filtering\n",
    "combined_counts_matrix <- combined_counts_matrix[, common_cells, drop = FALSE]\n",
    "\n",
    "# Remove zero-sum genes and cells (to avoid NaNs in similarity)\n",
    "valid_genes <- rowSums(combined_counts_matrix) > 0\n",
    "valid_cells <- colSums(combined_counts_matrix) > 0\n",
    "combined_counts_matrix <- combined_counts_matrix[valid_genes, valid_cells]\n",
    "\n",
    "combined_counts_matrix <- as(combined_counts_matrix, \"CsparseMatrix\")\n",
    "\n",
    "\n",
    "# Compute column norms (for each cell) instead of row norms\n",
    "col_norms <- sqrt(colSums(combined_counts_matrix^2))\n",
    "\n",
    "# Compute cosine similarity between cells instead of genes\n",
    "cosine_sim <- tcrossprod(t(combined_counts_matrix)) / (col_norms %o% col_norms)\n",
    "\n",
    "\n",
    "# Replace NaN values with zeros\n",
    "cosine_sim[is.nan(cosine_sim)] <- 0\n",
    "\n",
    "# Convert to a distance matrix (1 - similarity)\n",
    "cosine_dist <- as.matrix(1 - cosine_sim)\n",
    "\n",
    "# Convert to a graph (now correctly using cell-to-cell distances)\n",
    "graph <- graph_from_adjacency_matrix(cosine_dist, mode = \"undirected\", weighted = TRUE, diag = FALSE)\n",
    "\n",
    "# Run Louvain clustering\n",
    "clustering <- cluster_louvain(graph)\n",
    "\n",
    "\n",
    "cluster_membership <- membership(clustering)\n",
    "names(cluster_membership) <- common_cells\n",
    "\n",
    "combined_seurat$seurat_clusters <- as.factor(cluster_membership[common_cells])\n",
    "\n",
    "# Save the Seurat object with clustering results\n",
    "saveRDS(combined_seurat, file = \"seurat_louvain_clusters.rds\")\n"
   ]
  }
 ],
 "metadata": {
  "kernelspec": {
   "display_name": "Python 3 (ipykernel)",
   "language": "python",
   "name": "python3"
  },
  "language_info": {
   "codemirror_mode": {
    "name": "ipython",
    "version": 3
   },
   "file_extension": ".py",
   "mimetype": "text/x-python",
   "name": "python",
   "nbconvert_exporter": "python",
   "pygments_lexer": "ipython3",
   "version": "3.9.6"
  }
 },
 "nbformat": 4,
 "nbformat_minor": 5
}
